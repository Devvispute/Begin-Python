{
 "cells": [
  {
   "cell_type": "code",
   "execution_count": 1,
   "metadata": {},
   "outputs": [],
   "source": [
    "## Example pulls filenames from a dir, prints their relative and absolute paths\n",
    "def printdir(dir):\n",
    "  filenames = os.listdir(dir)\n",
    "  for filename in filenames:\n",
    "    print(filename)  ## foo.txt\n",
    "    print(os.path.join(dir, filename)) ## dir/foo.txt (relative to current dir)\n",
    "    print(os.path.abspath(os.path.join(dir, filename))) ## /home/nick/dir/foo.txt"
   ]
  },
  {
   "cell_type": "code",
   "execution_count": 2,
   "metadata": {},
   "outputs": [],
   "source": [
    "import subprocess\n",
    "\n",
    "## Given a dir path, run an external 'ls -l' on it --\n",
    "## shows how to call an external program\n",
    "def listdir(dir):\n",
    "  cmd = 'ls -l ' + dir\n",
    "  print(\"Command to run:\", cmd)   ## good to debug cmd before actually running it\n",
    "  (status, output) = subprocess.getstatusoutput(cmd)\n",
    "  if status:    ## Error case, print the command's output to stderr and exit\n",
    "    sys.stderr.write(output)\n",
    "    sys.exit(status)\n",
    "  print(output)  ## Otherwise do something with the command's output"
   ]
  },
  {
   "cell_type": "code",
   "execution_count": 3,
   "metadata": {},
   "outputs": [
    {
     "ename": "NameError",
     "evalue": "name 'filename' is not defined",
     "output_type": "error",
     "traceback": [
      "\u001b[1;31m---------------------------------------------------------------------------\u001b[0m",
      "\u001b[1;31mNameError\u001b[0m                                 Traceback (most recent call last)",
      "Cell \u001b[1;32mIn[3], line 4\u001b[0m\n\u001b[0;32m      1\u001b[0m \u001b[38;5;28;01mtry\u001b[39;00m:\n\u001b[0;32m      2\u001b[0m   \u001b[38;5;66;03m## Either of these two lines could throw an IOError, say\u001b[39;00m\n\u001b[0;32m      3\u001b[0m   \u001b[38;5;66;03m## if the file does not exist or the read() encounters a low level error.\u001b[39;00m\n\u001b[1;32m----> 4\u001b[0m   f \u001b[38;5;241m=\u001b[39m \u001b[38;5;28mopen\u001b[39m(\u001b[43mfilename\u001b[49m, \u001b[38;5;124m'\u001b[39m\u001b[38;5;124mrb\u001b[39m\u001b[38;5;124m'\u001b[39m)\n\u001b[0;32m      5\u001b[0m   data \u001b[38;5;241m=\u001b[39m f\u001b[38;5;241m.\u001b[39mread()\n\u001b[0;32m      6\u001b[0m   f\u001b[38;5;241m.\u001b[39mclose()\n",
      "\u001b[1;31mNameError\u001b[0m: name 'filename' is not defined"
     ]
    }
   ],
   "source": [
    "  try:\n",
    "    ## Either of these two lines could throw an IOError, say\n",
    "    ## if the file does not exist or the read() encounters a low level error.\n",
    "    f = open(filename, 'rb')\n",
    "    data = f.read()\n",
    "    f.close()\n",
    "  except IOError:\n",
    "    ## Control jumps directly to here if any of the above lines throws IOError.\n",
    "    sys.stderr.write('problem reading:' + filename)\n",
    "  ## In any case, the code then continues with the line after the try/except"
   ]
  },
  {
   "cell_type": "code",
   "execution_count": 4,
   "metadata": {},
   "outputs": [],
   "source": [
    "from urllib.request import urlopen\n",
    "\n",
    "## Given a url, try to retrieve it. If it's text/html,\n",
    "## print its base url and its text.\n",
    "def wget(url):\n",
    "  ufile = urlopen(url)  ## get file-like object for url\n",
    "  info = ufile.info()   ## meta-info about the url content\n",
    "  if info.get_content_type() == 'text/html':\n",
    "    print('base url:' + ufile.geturl())\n",
    "    text = ufile.read()  ## read all its text\n",
    "    print(text)"
   ]
  },
  {
   "cell_type": "code",
   "execution_count": 5,
   "metadata": {},
   "outputs": [],
   "source": [
    "## Version that uses try/except to print an error message if the\n",
    "## urlopen() fails.\n",
    "def wget2(url):\n",
    "  try:\n",
    "    ufile = urlopen(url)\n",
    "    if ufile.info().get_content_type() == 'text/html':\n",
    "      print(ufile.read())\n",
    "  except IOError:\n",
    "    print('problem reading url:', url)"
   ]
  }
 ],
 "metadata": {
  "kernelspec": {
   "display_name": "Python 3",
   "language": "python",
   "name": "python3"
  },
  "language_info": {
   "codemirror_mode": {
    "name": "ipython",
    "version": 3
   },
   "file_extension": ".py",
   "mimetype": "text/x-python",
   "name": "python",
   "nbconvert_exporter": "python",
   "pygments_lexer": "ipython3",
   "version": "3.12.3"
  }
 },
 "nbformat": 4,
 "nbformat_minor": 2
}
