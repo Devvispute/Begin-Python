{
 "cells": [
  {
   "cell_type": "code",
   "execution_count": 1,
   "metadata": {},
   "outputs": [
    {
     "name": "stdout",
     "output_type": "stream",
     "text": [
      "{'a': 'alpha', 'g': 'gamma', 'o': 'omega'}\n",
      "alpha\n",
      "None\n"
     ]
    }
   ],
   "source": [
    "  ## Can build up a dict by starting with the empty dict {}\n",
    "  ## and storing key/value pairs into the dict like this:\n",
    "  ## dict[key] = value-for-that-key\n",
    "  dict = {}\n",
    "  dict['a'] = 'alpha'\n",
    "  dict['g'] = 'gamma'\n",
    "  dict['o'] = 'omega'\n",
    "\n",
    "  print(dict) ## {'a': 'alpha', 'o': 'omega', 'g': 'gamma'}\n",
    "\n",
    "  print(dict['a'])     ## Simple lookup, returns 'alpha'\n",
    "  dict['a'] = 6       ## Put new key/value into dict\n",
    "  'a' in dict         ## True\n",
    "  ## print(dict['z'])                  ## Throws KeyError\n",
    "  if 'z' in dict: print(dict['z'])     ## Avoid KeyError\n",
    "  print(dict.get('z'))  ## None (instead of KeyError)"
   ]
  },
  {
   "cell_type": "code",
   "execution_count": 2,
   "metadata": {},
   "outputs": [
    {
     "name": "stdout",
     "output_type": "stream",
     "text": [
      "a\n",
      "g\n",
      "o\n",
      "a\n",
      "g\n",
      "o\n",
      "dict_keys(['a', 'g', 'o'])\n",
      "dict_values([6, 'gamma', 'omega'])\n",
      "a 6\n",
      "g gamma\n",
      "o omega\n",
      "dict_items([('a', 6), ('g', 'gamma'), ('o', 'omega')])\n",
      "a > 6\n",
      "g > gamma\n",
      "o > omega\n"
     ]
    }
   ],
   "source": [
    "  ## By default, iterating over a dict iterates over its keys.\n",
    "  ## Note that the keys are in a random order.\n",
    "  for key in dict:\n",
    "    print(key)\n",
    "  ## prints a g o\n",
    "\n",
    "  ## Exactly the same as above\n",
    "  for key in dict.keys():\n",
    "    print(key)\n",
    "\n",
    "  ## Get the .keys() list:\n",
    "  print(dict.keys())  ## dict_keys(['a', 'o', 'g'])\n",
    "\n",
    "  ## Likewise, there's a .values() list of values\n",
    "  print(dict.values())  ## dict_values(['alpha', 'omega', 'gamma'])\n",
    "\n",
    "  ## Common case -- loop over the keys in sorted order,\n",
    "  ## accessing each key/value\n",
    "  for key in sorted(dict.keys()):\n",
    "    print(key, dict[key])\n",
    "\n",
    "  ## .items() is the dict expressed as (key, value) tuples\n",
    "  print(dict.items())  ##  dict_items([('a', 'alpha'), ('o', 'omega'), ('g', 'gamma')])\n",
    "\n",
    "  ## This loop syntax accesses the whole dict by looping\n",
    "  ## over the .items() tuple list, accessing one (key, value)\n",
    "  ## pair on each iteration.\n",
    "  for k, v in dict.items(): print(k, '>', v)\n",
    "  ## a > alpha    o > omega     g > gamma"
   ]
  },
  {
   "cell_type": "code",
   "execution_count": 10,
   "metadata": {},
   "outputs": [
    {
     "name": "stdout",
     "output_type": "stream",
     "text": [
      "I want 42 copies of garfield\n"
     ]
    }
   ],
   "source": [
    "  h = {}\n",
    "  h['word'] = 'garfield'\n",
    "  h['count'] = 42\n",
    "  s = 'I want %(count)d copies of %(word)s' % h  # %d for int, %s for string\n",
    "  # 'I want 42 copies of garfield'\n",
    "\n",
    "  # You can also use str.format().\n",
    "  s = 'I want {count:d} copies of {word}'.format(**h)\n",
    "print(s)"
   ]
  },
  {
   "cell_type": "code",
   "execution_count": 4,
   "metadata": {},
   "outputs": [
    {
     "name": "stdout",
     "output_type": "stream",
     "text": [
      "['b']\n",
      "{'a': 1, 'c': 3}\n"
     ]
    }
   ],
   "source": [
    "  var = 6\n",
    "  del var  # var no more!\n",
    "\n",
    "  list = ['a', 'b', 'c', 'd']\n",
    "  del list[0]     ## Delete first element\n",
    "  del list[-2:]   ## Delete last two elements\n",
    "  print(list)      ## ['b']\n",
    "\n",
    "  dict = {'a':1, 'b':2, 'c':3}\n",
    "  del dict['b']   ## Delete 'b' entry\n",
    "  print(dict)      ## {'a':1, 'c':3}"
   ]
  },
  {
   "cell_type": "code",
   "execution_count": 14,
   "metadata": {},
   "outputs": [
    {
     "name": "stdout",
     "output_type": "stream",
     "text": [
      "This is line 0\n",
      "This is line 1\n",
      "This is line 2\n",
      "This is line 3\n",
      "This is line 4\n"
     ]
    }
   ],
   "source": [
    "  # Echo the contents of a text file\n",
    "  f = open('write_test.txt', 'rt', encoding='utf-8')\n",
    "  for line in f:   ## iterates over the lines of the file\n",
    "    print(line, end='')    ## end='' so print does not add an end-of-line char\n",
    "                           ## since 'line' already includes the end-of-line.\n",
    "  f.close()"
   ]
  },
  {
   "cell_type": "code",
   "execution_count": 15,
   "metadata": {},
   "outputs": [
    {
     "ename": "IndentationError",
     "evalue": "expected an indented block after 'for' statement on line 2 (3098539093.py, line 5)",
     "output_type": "error",
     "traceback": [
      "\u001b[1;36m  Cell \u001b[1;32mIn[15], line 5\u001b[1;36m\u001b[0m\n\u001b[1;33m    with open('write_test', encoding='utf-8', mode='wt') as f:\u001b[0m\n\u001b[1;37m                                                              ^\u001b[0m\n\u001b[1;31mIndentationError\u001b[0m\u001b[1;31m:\u001b[0m expected an indented block after 'for' statement on line 2\n"
     ]
    }
   ],
   "source": [
    "with open('foo.txt', 'rt', encoding='utf-8') as f:\n",
    "  for line in f:\n",
    "    # here line is a *unicode* string\n",
    "\n",
    "with open('write_test', encoding='utf-8', mode='wt') as f:\n",
    "    f.write('\\u20ACunicode\\u20AC\\n') #  €unicode€\n",
    "    # AKA print('\\u20ACunicode\\u20AC', file=f)  ## which auto-adds end='\\n'"
   ]
  },
  {
   "cell_type": "code",
   "execution_count": 13,
   "metadata": {},
   "outputs": [],
   "source": [
    "# Corrected example\n",
    "with open('write_test.txt', encoding='utf-8', mode='wt') as f:\n",
    "    for i in range(5):  # Ensure this has an indented block\n",
    "        f.write(f'This is line {i}\\n')  # Indented block for the 'for' loop"
   ]
  },
  {
   "cell_type": "code",
   "execution_count": null,
   "metadata": {},
   "outputs": [],
   "source": []
  }
 ],
 "metadata": {
  "kernelspec": {
   "display_name": "Python 3",
   "language": "python",
   "name": "python3"
  },
  "language_info": {
   "codemirror_mode": {
    "name": "ipython",
    "version": 3
   },
   "file_extension": ".py",
   "mimetype": "text/x-python",
   "name": "python",
   "nbconvert_exporter": "python",
   "pygments_lexer": "ipython3",
   "version": "3.12.3"
  }
 },
 "nbformat": 4,
 "nbformat_minor": 2
}
