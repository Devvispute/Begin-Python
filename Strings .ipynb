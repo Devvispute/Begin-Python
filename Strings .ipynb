{
 "cells": [
  {
   "cell_type": "code",
   "execution_count": 2,
   "metadata": {},
   "outputs": [
    {
     "name": "stdout",
     "output_type": "stream",
     "text": [
      "Hello there\n"
     ]
    }
   ],
   "source": [
    "print('Hello there')"
   ]
  },
  {
   "cell_type": "code",
   "execution_count": 3,
   "metadata": {},
   "outputs": [
    {
     "name": "stdout",
     "output_type": "stream",
     "text": [
      "i\n",
      "2\n",
      "hi there\n"
     ]
    }
   ],
   "source": [
    "  s = 'hi'\n",
    "  print(s[1])          ## i\n",
    "  print(len(s))        ## 2\n",
    "  print(s + ' there')  ## hi there"
   ]
  },
  {
   "cell_type": "code",
   "execution_count": 4,
   "metadata": {},
   "outputs": [],
   "source": [
    "  pi = 3.14\n",
    "  ##text = 'The value of pi is ' + pi      ## NO, does not work\n",
    "  text = 'The value of pi is '  + str(pi)  ## yes"
   ]
  },
  {
   "cell_type": "code",
   "execution_count": 5,
   "metadata": {},
   "outputs": [
    {
     "name": "stdout",
     "output_type": "stream",
     "text": [
      "this\\t\\n and that\n",
      "It was the best of times.\n",
      "It was the worst of times.\n"
     ]
    }
   ],
   "source": [
    "  raw = r'this\\t\\n and that'\n",
    "\n",
    "  # this\\t\\n and that\n",
    "  print(raw)\n",
    "\n",
    "  multi = \"\"\"It was the best of times.\n",
    "  It was the worst of times.\"\"\"\n",
    "\n",
    "  # It was the best of times.\n",
    "  #   It was the worst of times.\n",
    "  print(multi)"
   ]
  },
  {
   "cell_type": "code",
   "execution_count": 6,
   "metadata": {},
   "outputs": [
    {
     "name": "stdout",
     "output_type": "stream",
     "text": [
      "approximate value = 2.79\n",
      "car = {'tires': 4, 'doors': 2}\n"
     ]
    }
   ],
   "source": [
    "  value = 2.791514\n",
    "  print(f'approximate value = {value:.2f}')  # approximate value = 2.79\n",
    "\n",
    "  car = {'tires':4, 'doors':2}\n",
    "  print(f'car = {car}') # car = {'tires': 4, 'doors': 2}"
   ]
  },
  {
   "cell_type": "code",
   "execution_count": 7,
   "metadata": {},
   "outputs": [
    {
     "name": "stdout",
     "output_type": "stream",
     "text": [
      "N.X.     || 15 Jones St          ||    70\n",
      "J.P.     || 1005 5th St          ||   400\n",
      "A.A.     || 200001 Bdwy          ||     5\n"
     ]
    }
   ],
   "source": [
    "  address_book = [{'name':'N.X.', 'addr':'15 Jones St', 'bonus': 70},\n",
    "      {'name':'J.P.', 'addr':'1005 5th St', 'bonus': 400},\n",
    "      {'name':'A.A.', 'addr':'200001 Bdwy', 'bonus': 5},]\n",
    "\n",
    "  for person in address_book:\n",
    "    print(f'{person[\"name\"]:8} || {person[\"addr\"]:20} || {person[\"bonus\"]:>5}')\n",
    "\n",
    "  # N.X.     || 15 Jones St          ||    70\n",
    "  # J.P.     || 1005 5th St          ||   400\n",
    "  # A.A.     || 200001 Bdwy          ||     5"
   ]
  },
  {
   "cell_type": "code",
   "execution_count": 8,
   "metadata": {},
   "outputs": [],
   "source": [
    "  # % operator\n",
    "  text = \"%d little pigs come out, or I'll %s, and I'll %s, and I'll blow your %s down.\" % (3, 'huff', 'puff', 'house')"
   ]
  },
  {
   "cell_type": "code",
   "execution_count": 9,
   "metadata": {},
   "outputs": [],
   "source": [
    "  # Add parentheses to make the long line work:\n",
    "  text = (\n",
    "    \"%d little pigs come out, or I'll %s, and I'll %s, and I'll blow your %s down.\"\n",
    "    % (3, 'huff', 'puff', 'house'))"
   ]
  },
  {
   "cell_type": "code",
   "execution_count": 10,
   "metadata": {},
   "outputs": [],
   "source": [
    "  # Split the line into chunks, which are concatenated automatically by Python\n",
    "  text = (\n",
    "    \"%d little pigs come out, \"\n",
    "    \"or I'll %s, and I'll %s, \"\n",
    "    \"and I'll blow your %s down.\"\n",
    "    % (3, 'huff', 'puff', 'house'))"
   ]
  },
  {
   "cell_type": "code",
   "execution_count": 11,
   "metadata": {},
   "outputs": [
    {
     "ename": "SyntaxError",
     "evalue": "invalid syntax (423971533.py, line 1)",
     "output_type": "error",
     "traceback": [
      "\u001b[1;36m  Cell \u001b[1;32mIn[11], line 1\u001b[1;36m\u001b[0m\n\u001b[1;33m    > byte_string = b'A byte string'\u001b[0m\n\u001b[1;37m    ^\u001b[0m\n\u001b[1;31mSyntaxError\u001b[0m\u001b[1;31m:\u001b[0m invalid syntax\n"
     ]
    }
   ],
   "source": [
    "> byte_string = b'A byte string'\n",
    "> byte_string\n",
    "  b'A byte string'"
   ]
  },
  {
   "cell_type": "code",
   "execution_count": 12,
   "metadata": {},
   "outputs": [
    {
     "ename": "SyntaxError",
     "evalue": "invalid syntax (4167019686.py, line 1)",
     "output_type": "error",
     "traceback": [
      "\u001b[1;36m  Cell \u001b[1;32mIn[12], line 1\u001b[1;36m\u001b[0m\n\u001b[1;33m    > ustring = 'A unicode \\u018e string \\xf1'\u001b[0m\n\u001b[1;37m    ^\u001b[0m\n\u001b[1;31mSyntaxError\u001b[0m\u001b[1;31m:\u001b[0m invalid syntax\n"
     ]
    }
   ],
   "source": [
    "> ustring = 'A unicode \\u018e string \\xf1'\n",
    "> b = ustring.encode('utf-8')\n",
    "> b\n",
    "b'A unicode \\xc6\\x8e string \\xc3\\xb1'  ## bytes of utf-8 encoding. Note the b-prefix.\n",
    "> t = b.decode('utf-8')                ## Convert bytes back to a unicode string\n",
    "> t == ustring                         ## It's the same as the original, yay!\n",
    "True"
   ]
  },
  {
   "cell_type": "code",
   "execution_count": 19,
   "metadata": {},
   "outputs": [
    {
     "name": "stdout",
     "output_type": "stream",
     "text": [
      "Suggesting a drink option...\n",
      "water\n"
     ]
    }
   ],
   "source": [
    "time_hour = 10\n",
    "mood = 'sleepy'\n",
    "if time_hour >= 0 and time_hour <= 24:\n",
    "    print('Suggesting a drink option...')\n",
    "    if mood == 'sleepy' and time_hour < 10:\n",
    "      print('coffee')\n",
    "    elif mood == 'thirsty' or time_hour < 2:\n",
    "      print('lemonade')\n",
    "    else:\n",
    "      print('water')"
   ]
  },
  {
   "cell_type": "code",
   "execution_count": 20,
   "metadata": {},
   "outputs": [
    {
     "name": "stdout",
     "output_type": "stream",
     "text": [
      "water\n"
     ]
    }
   ],
   "source": [
    "  if time_hour < 10: print('coffee')\n",
    "  else: print('water')"
   ]
  },
  {
   "cell_type": "code",
   "execution_count": null,
   "metadata": {},
   "outputs": [],
   "source": []
  }
 ],
 "metadata": {
  "kernelspec": {
   "display_name": "Python 3",
   "language": "python",
   "name": "python3"
  },
  "language_info": {
   "codemirror_mode": {
    "name": "ipython",
    "version": 3
   },
   "file_extension": ".py",
   "mimetype": "text/x-python",
   "name": "python",
   "nbconvert_exporter": "python",
   "pygments_lexer": "ipython3",
   "version": "3.12.3"
  }
 },
 "nbformat": 4,
 "nbformat_minor": 2
}
