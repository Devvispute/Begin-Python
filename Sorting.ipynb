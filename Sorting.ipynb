{
 "cells": [
  {
   "cell_type": "code",
   "execution_count": 11,
   "metadata": {},
   "outputs": [
    {
     "name": "stdout",
     "output_type": "stream",
     "text": [
      "[1, 3, 4, 5]\n",
      "[5, 1, 4, 3]\n"
     ]
    }
   ],
   "source": [
    "  a = [5, 1, 4, 3]\n",
    "  print(sorted(a))  ## [1, 3, 4, 5]\n",
    "  print(a)  ## [5, 1, 4, 3]"
   ]
  },
  {
   "cell_type": "code",
   "execution_count": 12,
   "metadata": {},
   "outputs": [
    {
     "name": "stdout",
     "output_type": "stream",
     "text": [
      "['BB', 'CC', 'aa', 'zz']\n",
      "['zz', 'aa', 'CC', 'BB']\n"
     ]
    }
   ],
   "source": [
    "  strs = ['aa', 'BB', 'zz', 'CC']\n",
    "  print(sorted(strs))  ## ['BB', 'CC', 'aa', 'zz'] (case sensitive)\n",
    "  print(sorted(strs, reverse=True))   ## ['zz', 'aa', 'CC', 'BB']"
   ]
  },
  {
   "cell_type": "code",
   "execution_count": 13,
   "metadata": {},
   "outputs": [
    {
     "name": "stdout",
     "output_type": "stream",
     "text": [
      "['d', 'bb', 'ccc', 'aaaa']\n"
     ]
    }
   ],
   "source": [
    "  strs = ['ccc', 'aaaa', 'd', 'bb']\n",
    "  print(sorted(strs, key=len))  ## ['d', 'bb', 'ccc', 'aaaa']"
   ]
  },
  {
   "cell_type": "code",
   "execution_count": 14,
   "metadata": {},
   "outputs": [
    {
     "name": "stdout",
     "output_type": "stream",
     "text": [
      "['aaaa', 'bb', 'ccc', 'd']\n"
     ]
    }
   ],
   "source": [
    "  ## \"key\" argument specifying str.lower function to use for sorting\n",
    "  print(sorted(strs, key=str.lower))  ## ['aa', 'BB', 'CC', 'zz']"
   ]
  },
  {
   "cell_type": "code",
   "execution_count": 15,
   "metadata": {},
   "outputs": [
    {
     "name": "stdout",
     "output_type": "stream",
     "text": [
      "['wa', 'zb', 'xc', 'yd']\n"
     ]
    }
   ],
   "source": [
    "  ## Say we have a list of strings we want to sort by the last letter of the string.\n",
    "  strs = ['xc', 'zb', 'yd' ,'wa']\n",
    "\n",
    "  ## Write a little function that takes a string, and returns its last letter.\n",
    "  ## This will be the key function (takes in 1 value, returns 1 value).\n",
    "  def MyFn(s):\n",
    "    return s[-1]\n",
    "\n",
    "  ## Now pass key=MyFn to sorted() to sort by the last letter:\n",
    "  print(sorted(strs, key=MyFn))  ## ['wa', 'zb', 'xc', 'yd']"
   ]
  },
  {
   "cell_type": "code",
   "execution_count": 16,
   "metadata": {},
   "outputs": [
    {
     "data": {
      "text/plain": [
       "[('Anil', 'Wang', 24), ('Anil', 'Frank', 100), ('Freddy', 'Frank', 3)]"
      ]
     },
     "execution_count": 16,
     "metadata": {},
     "output_type": "execute_result"
    }
   ],
   "source": [
    "  from operator import itemgetter\n",
    "\n",
    "  # (first name, last name, score) tuples\n",
    "  grade = [('Freddy', 'Frank', 3), ('Anil', 'Frank', 100), ('Anil', 'Wang', 24)]\n",
    "  sorted(grade, key=itemgetter(1,0))\n",
    "  # [('Anil', 'Frank', 100), ('Freddy', 'Frank', 3), ('Anil', 'Wang', 24)]\n",
    "\n",
    "  sorted(grade, key=itemgetter(0,-1))\n",
    "  #[('Anil', 'Wang', 24), ('Anil', 'Frank', 100), ('Freddy', 'Frank', 3)]"
   ]
  },
  {
   "cell_type": "code",
   "execution_count": 18,
   "metadata": {},
   "outputs": [
    {
     "name": "stdout",
     "output_type": "stream",
     "text": [
      "[1, 3, 4, 5]\n",
      "[5, 1, 4, 3]\n"
     ]
    }
   ],
   "source": [
    "a = [5, 1, 4, 3]\n",
    "print(sorted(a))  ## [1, 3, 4, 5]\n",
    "print(a)  ## [5, 1, 4, 3]\n"
   ]
  },
  {
   "cell_type": "code",
   "execution_count": 21,
   "metadata": {},
   "outputs": [
    {
     "name": "stdout",
     "output_type": "stream",
     "text": [
      "3\n",
      "hi\n"
     ]
    },
    {
     "ename": "TypeError",
     "evalue": "'tuple' object does not support item assignment",
     "output_type": "error",
     "traceback": [
      "\u001b[1;31m---------------------------------------------------------------------------\u001b[0m",
      "\u001b[1;31mTypeError\u001b[0m                                 Traceback (most recent call last)",
      "Cell \u001b[1;32mIn[21], line 4\u001b[0m\n\u001b[0;32m      2\u001b[0m \u001b[38;5;28mprint\u001b[39m(\u001b[38;5;28mlen\u001b[39m(\u001b[38;5;28mtuple\u001b[39m))  \u001b[38;5;66;03m## 3\u001b[39;00m\n\u001b[0;32m      3\u001b[0m \u001b[38;5;28mprint\u001b[39m(\u001b[38;5;28mtuple\u001b[39m[\u001b[38;5;241m2\u001b[39m])    \u001b[38;5;66;03m## hi\u001b[39;00m\n\u001b[1;32m----> 4\u001b[0m \u001b[38;5;28;43mtuple\u001b[39;49m\u001b[43m[\u001b[49m\u001b[38;5;241;43m2\u001b[39;49m\u001b[43m]\u001b[49m \u001b[38;5;241m=\u001b[39m \u001b[38;5;124m'\u001b[39m\u001b[38;5;124mbye\u001b[39m\u001b[38;5;124m'\u001b[39m  \u001b[38;5;66;03m## NO, tuples cannot be changed\u001b[39;00m\n\u001b[0;32m      5\u001b[0m \u001b[38;5;28mtuple\u001b[39m \u001b[38;5;241m=\u001b[39m (\u001b[38;5;241m1\u001b[39m, \u001b[38;5;241m2\u001b[39m, \u001b[38;5;124m'\u001b[39m\u001b[38;5;124mbye\u001b[39m\u001b[38;5;124m'\u001b[39m)  \u001b[38;5;66;03m## this works\u001b[39;00m\n",
      "\u001b[1;31mTypeError\u001b[0m: 'tuple' object does not support item assignment"
     ]
    }
   ],
   "source": [
    "  tuple = (1, 2, 'hi')\n",
    "  print(len(tuple))  ## 3\n",
    "  print(tuple[2])    ## hi\n",
    "  tuple[2] = 'bye'  ## NO, tuples cannot be changed\n",
    "  tuple = (1, 2, 'bye')  ## this works"
   ]
  },
  {
   "cell_type": "code",
   "execution_count": 7,
   "metadata": {},
   "outputs": [],
   "source": [
    "  tuple = ('hi',)   ## size-1 tuple"
   ]
  },
  {
   "cell_type": "code",
   "execution_count": 22,
   "metadata": {},
   "outputs": [
    {
     "name": "stdout",
     "output_type": "stream",
     "text": [
      "hike\n"
     ]
    },
    {
     "ename": "NameError",
     "evalue": "name 'Foo' is not defined",
     "output_type": "error",
     "traceback": [
      "\u001b[1;31m---------------------------------------------------------------------------\u001b[0m",
      "\u001b[1;31mNameError\u001b[0m                                 Traceback (most recent call last)",
      "Cell \u001b[1;32mIn[22], line 3\u001b[0m\n\u001b[0;32m      1\u001b[0m (x, y, z) \u001b[38;5;241m=\u001b[39m (\u001b[38;5;241m42\u001b[39m, \u001b[38;5;241m13\u001b[39m, \u001b[38;5;124m\"\u001b[39m\u001b[38;5;124mhike\u001b[39m\u001b[38;5;124m\"\u001b[39m)\n\u001b[0;32m      2\u001b[0m \u001b[38;5;28mprint\u001b[39m(z)  \u001b[38;5;66;03m## hike\u001b[39;00m\n\u001b[1;32m----> 3\u001b[0m (err_string, err_code) \u001b[38;5;241m=\u001b[39m \u001b[43mFoo\u001b[49m()  \u001b[38;5;66;03m## Foo() returns a length-2 tuple\u001b[39;00m\n",
      "\u001b[1;31mNameError\u001b[0m: name 'Foo' is not defined"
     ]
    }
   ],
   "source": [
    "  (x, y, z) = (42, 13, \"hike\")\n",
    "  print(z)  ## hike\n",
    "  (err_string, err_code) = Foo()  ## Foo() returns a length-2 tuple"
   ]
  },
  {
   "cell_type": "code",
   "execution_count": 9,
   "metadata": {},
   "outputs": [],
   "source": [
    "  nums = [1, 2, 3, 4]\n",
    "\n",
    "  squares = [ n * n for n in nums ]   ## [1, 4, 9, 16]"
   ]
  },
  {
   "cell_type": "code",
   "execution_count": 23,
   "metadata": {},
   "outputs": [],
   "source": [
    "  ## Select values <= 2\n",
    "  nums = [2, 8, 1, 6]\n",
    "  small = [ n for n in nums if n <= 2 ]  ## [2, 1]\n",
    "\n",
    "  ## Select fruits containing 'a', change to upper case\n",
    "  fruits = ['apple', 'cherry', 'banana', 'lemon']\n",
    "  afruits = [ s.upper() for s in fruits if 'a' in s ]\n",
    "  ## ['APPLE', 'BANANA']"
   ]
  },
  {
   "cell_type": "code",
   "execution_count": null,
   "metadata": {},
   "outputs": [],
   "source": []
  }
 ],
 "metadata": {
  "kernelspec": {
   "display_name": "Python 3",
   "language": "python",
   "name": "python3"
  },
  "language_info": {
   "codemirror_mode": {
    "name": "ipython",
    "version": 3
   },
   "file_extension": ".py",
   "mimetype": "text/x-python",
   "name": "python",
   "nbconvert_exporter": "python",
   "pygments_lexer": "ipython3",
   "version": "3.12.3"
  }
 },
 "nbformat": 4,
 "nbformat_minor": 2
}
